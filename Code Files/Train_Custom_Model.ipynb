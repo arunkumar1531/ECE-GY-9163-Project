{
  "cells": [
    {
      "cell_type": "code",
      "execution_count": null,
      "metadata": {
        "_cell_guid": "79c7e3d0-c299-4dcb-8224-4455121ee9b0",
        "_uuid": "d629ff2d2480ee46fbb7e2d37f6b5fab8052498a",
        "execution": {
          "iopub.execute_input": "2022-12-17T21:49:37.502338Z",
          "iopub.status.busy": "2022-12-17T21:49:37.501745Z",
          "iopub.status.idle": "2022-12-17T21:49:43.980125Z",
          "shell.execute_reply": "2022-12-17T21:49:43.979148Z",
          "shell.execute_reply.started": "2022-12-17T21:49:37.502265Z"
        },
        "id": "cLDPcUbQAkFj",
        "trusted": true
      },
      "outputs": [],
      "source": [
        "\n",
        "import os\n",
        "\n",
        "import glob\n",
        "\n",
        "\n",
        "import numpy as np \n",
        "\n",
        "import pandas as pd \n",
        "\n",
        "\n",
        "import matplotlib.pyplot as plt\n",
        "\n",
        "import seaborn as sns\n",
        "\n",
        "\n",
        "import matplotlib.image as mpimg\n",
        "\n",
        "\n",
        "from sklearn.model_selection import train_test_split\n",
        "\n",
        "from sklearn.metrics import confusion_matrix, classification_report\n",
        "\n",
        "from tensorflow.keras.layers import Activation, ZeroPadding3D, GlobalAveragePooling2D, GlobalMaxPooling2D\n",
        "from tensorflow.keras.applications.resnet_v2 import ResNet50V2\n",
        "import tensorflow as tf\n",
        "\n",
        "from tensorflow.keras.utils import to_categorical, plot_model\n",
        "\n",
        "from tensorflow.keras.preprocessing.image import ImageDataGenerator, load_img\n",
        "\n",
        "from tensorflow.keras.models import Sequential\n",
        "\n",
        "from tensorflow.keras.layers import Conv2D, MaxPooling2D, Dense, Flatten, Dropout\n",
        "\n",
        "from tensorflow.keras.callbacks import EarlyStopping, ModelCheckpoint, LearningRateScheduler"
      ]
    },
    {
      "cell_type": "markdown",
      "metadata": {
        "id": "GV8uODgNAkFu"
      },
      "source": [
        "# Data"
      ]
    },
    {
      "cell_type": "markdown",
      "metadata": {
        "id": "UQty3xS6AkFx"
      },
      "source": [
        "### List files"
      ]
    },
    {
      "cell_type": "code",
      "execution_count": null,
      "metadata": {
        "execution": {
          "iopub.execute_input": "2022-12-17T21:50:06.494394Z",
          "iopub.status.busy": "2022-12-17T21:50:06.493736Z",
          "iopub.status.idle": "2022-12-17T21:50:06.515132Z",
          "shell.execute_reply": "2022-12-17T21:50:06.514323Z",
          "shell.execute_reply.started": "2022-12-17T21:50:06.494356Z"
        },
        "id": "dSDkV8FYAkFy",
        "trusted": true
      },
      "outputs": [],
      "source": [
        "\n",
        "os.listdir('../input/cell-images-for-detecting-malaria/cell_images/cell_images')"
      ]
    },
    {
      "cell_type": "code",
      "execution_count": null,
      "metadata": {
        "execution": {
          "iopub.execute_input": "2022-12-17T21:50:08.513714Z",
          "iopub.status.busy": "2022-12-17T21:50:08.513343Z",
          "iopub.status.idle": "2022-12-17T21:50:08.787481Z",
          "shell.execute_reply": "2022-12-17T21:50:08.786466Z",
          "shell.execute_reply.started": "2022-12-17T21:50:08.513683Z"
        },
        "id": "BEtk14TDAkFz",
        "trusted": true
      },
      "outputs": [],
      "source": [
        "\n",
        "parasitized = glob.glob('../input/cell-images-for-detecting-malaria/cell_images/cell_images/Parasitized/*.png')\n",
        "\n",
        "print('No. of files in the directory Parasitized', len(parasitized))\n",
        "\n",
        "\n",
        "parasitized[:5]"
      ]
    },
    {
      "cell_type": "code",
      "execution_count": null,
      "metadata": {
        "execution": {
          "iopub.execute_input": "2022-12-17T21:50:10.870084Z",
          "iopub.status.busy": "2022-12-17T21:50:10.869635Z",
          "iopub.status.idle": "2022-12-17T21:50:11.136596Z",
          "shell.execute_reply": "2022-12-17T21:50:11.135616Z",
          "shell.execute_reply.started": "2022-12-17T21:50:10.870043Z"
        },
        "id": "_gUkLGbHAkF0",
        "trusted": true
      },
      "outputs": [],
      "source": [
        "# list all the images in the directory Uninfected\n",
        "uninfected = glob.glob('../input/cell-images-for-detecting-malaria/cell_images/cell_images/Uninfected/*.png')\n",
        "\n",
        "# no. of files in the directory Uninfected\n",
        "print('No. of files in the directory Uninfected', len(uninfected))\n",
        "\n",
        "# first few images\n",
        "uninfected[:5]"
      ]
    },
    {
      "cell_type": "markdown",
      "metadata": {
        "id": "Q6EAAIUOAkF1"
      },
      "source": [
        "# Images"
      ]
    },
    {
      "cell_type": "code",
      "execution_count": null,
      "metadata": {
        "execution": {
          "iopub.execute_input": "2022-12-17T21:50:13.224377Z",
          "iopub.status.busy": "2022-12-17T21:50:13.224004Z",
          "iopub.status.idle": "2022-12-17T21:50:14.629121Z",
          "shell.execute_reply": "2022-12-17T21:50:14.628276Z",
          "shell.execute_reply.started": "2022-12-17T21:50:13.224344Z"
        },
        "id": "SIvks6XfAkF2",
        "trusted": true
      },
      "outputs": [],
      "source": [
        "fig, ax = plt.subplots(figsize=(20, 8))\n",
        "fig.suptitle('Infected cells', fontsize=24)\n",
        "\n",
        "for Indx, ImgSrc in enumerate(parasitized[:30]):\n",
        "    plt.subplot(3, 10, Indx+1)\n",
        "    imge = plt.imread(ImgSrc)\n",
        "    plt.axis('off')\n",
        "    plt.imshow(imge)"
      ]
    },
    {
      "cell_type": "code",
      "execution_count": null,
      "metadata": {
        "execution": {
          "iopub.execute_input": "2022-12-11T16:03:14.709507Z",
          "iopub.status.busy": "2022-12-11T16:03:14.708932Z",
          "iopub.status.idle": "2022-12-11T16:03:16.452462Z",
          "shell.execute_reply": "2022-12-11T16:03:16.451475Z",
          "shell.execute_reply.started": "2022-12-11T16:03:14.709458Z"
        },
        "id": "JLQ2HT2oAkF3",
        "trusted": true
      },
      "outputs": [],
      "source": [
        "fig, ax = plt.subplots(figsize=(20, 8))\n",
        "fig.suptitle('Uninfected cells', fontsize=24)\n",
        "\n",
        "for Indx, ImgSrc in enumerate(uninfected[:30]):\n",
        "    plt.subplot(3, 10, Indx+1)\n",
        "    imge = plt.imread(ImgSrc)\n",
        "    plt.axis('off')\n",
        "    plt.imshow(imge)"
      ]
    },
    {
      "cell_type": "markdown",
      "metadata": {
        "id": "1URqUSpYAkF4",
        "trusted": true
      },
      "source": [
        "# Model"
      ]
    },
    {
      "cell_type": "markdown",
      "metadata": {
        "id": "a89W-1ecAkF5"
      },
      "source": [
        "### Model parameters"
      ]
    },
    {
      "cell_type": "code",
      "execution_count": null,
      "metadata": {
        "execution": {
          "iopub.execute_input": "2022-12-17T21:50:26.373733Z",
          "iopub.status.busy": "2022-12-17T21:50:26.373376Z",
          "iopub.status.idle": "2022-12-17T21:50:26.379237Z",
          "shell.execute_reply": "2022-12-17T21:50:26.378068Z",
          "shell.execute_reply.started": "2022-12-17T21:50:26.373702Z"
        },
        "id": "KOHP9e43AkF5",
        "trusted": true
      },
      "outputs": [],
      "source": [
        "BATCH_SIZE = 100  \n",
        "IMG_SHAPE  = 150 \n",
        "TARGET_SIZE = 64\n",
        "EPOCHS = 1"
      ]
    },
    {
      "cell_type": "markdown",
      "metadata": {
        "id": "BGY7PvQbAkF6"
      },
      "source": [
        "### Model initialization"
      ]
    },
    {
      "cell_type": "code",
      "execution_count": null,
      "metadata": {
        "execution": {
          "iopub.execute_input": "2022-12-17T22:33:55.211747Z",
          "iopub.status.busy": "2022-12-17T22:33:55.211386Z",
          "iopub.status.idle": "2022-12-17T22:33:57.009168Z",
          "shell.execute_reply": "2022-12-17T22:33:57.008206Z",
          "shell.execute_reply.started": "2022-12-17T22:33:55.211715Z"
        },
        "id": "DJXdqrzYAkF8",
        "trusted": true
      },
      "outputs": [],
      "source": [
        "model = Sequential()\n",
        "\n",
        "model.add(Conv2D(32, (3,3), activation='relu', input_shape=(IMG_SHAPE, IMG_SHAPE, 3)))\n",
        "model.add(MaxPooling2D(2,2))\n",
        "\n",
        "model.add(Conv2D(64, (3,3), activation='relu'))\n",
        "model.add(MaxPooling2D(2,2))\n",
        "\n",
        "model.add(Conv2D(128, (3,3), activation='relu'))\n",
        "model.add(MaxPooling2D(2,2))\n",
        "\n",
        "model.add(Flatten())\n",
        "\n",
        "model.add(Dropout(0.2))\n",
        "model.add(Dense(128, activation='relu'))\n",
        "\n",
        "model.add(Dropout(0.2))\n",
        "model.add(Dense(1, activation='sigmoid'))\n",
        "\n",
        "model.compile(optimizer='adam',\n",
        "              loss='binary_crossentropy',\n",
        "              metrics=['accuracy'])\n",
        "\n",
        "model.summary()"
      ]
    },
    {
      "cell_type": "code",
      "execution_count": null,
      "metadata": {
        "execution": {
          "iopub.execute_input": "2022-12-17T21:51:23.472011Z",
          "iopub.status.busy": "2022-12-17T21:51:23.471459Z",
          "iopub.status.idle": "2022-12-17T21:51:23.486713Z",
          "shell.execute_reply": "2022-12-17T21:51:23.485650Z",
          "shell.execute_reply.started": "2022-12-17T21:51:23.471969Z"
        },
        "id": "rpuHU2EqAkF8",
        "trusted": true
      },
      "outputs": [],
      "source": [
        "plt.figure(figsize=(5, 10))\n",
        "plot_model(model, to_file=\"model.png\")"
      ]
    },
    {
      "cell_type": "markdown",
      "metadata": {
        "id": "NOlmeVlaAkF9"
      },
      "source": [
        "### Data generator"
      ]
    },
    {
      "cell_type": "code",
      "execution_count": null,
      "metadata": {
        "execution": {
          "iopub.execute_input": "2022-12-17T21:51:28.295862Z",
          "iopub.status.busy": "2022-12-17T21:51:28.295500Z",
          "iopub.status.idle": "2022-12-17T21:51:51.163727Z",
          "shell.execute_reply": "2022-12-17T21:51:51.162650Z",
          "shell.execute_reply.started": "2022-12-17T21:51:28.295830Z"
        },
        "id": "IRpRtBPsAkF9",
        "trusted": true
      },
      "outputs": [],
      "source": [
        "datagen = ImageDataGenerator(rescale=1./255,\n",
        "                             zoom_range=0.2,\n",
        "                             horizontal_flip=True,\n",
        "                             vertical_flip=True,\n",
        "                             width_shift_range=0.2,\n",
        "                             height_shift_range=0.2,\n",
        "                             validation_split=0.3)\n",
        "\n",
        "train_data = datagen.flow_from_directory('../input/cell-images-for-detecting-malaria/cell_images/cell_images',\n",
        "                                         target_size=(IMG_SHAPE,IMG_SHAPE),\n",
        "                                         batch_size=BATCH_SIZE,\n",
        "                                         shuffle=True,\n",
        "                                         class_mode='binary',\n",
        "                                         subset='training')\n",
        "\n",
        "validation_data = datagen.flow_from_directory('../input/cell-images-for-detecting-malaria/cell_images/cell_images',\n",
        "                                              target_size=(IMG_SHAPE,IMG_SHAPE),\n",
        "                                              batch_size=BATCH_SIZE,\n",
        "                                              shuffle=True,\n",
        "                                              class_mode='binary',\n",
        "                                              subset='validation')"
      ]
    },
    {
      "cell_type": "markdown",
      "metadata": {
        "id": "UX7_D-uTAkF-"
      },
      "source": [
        "### Callback functions"
      ]
    },
    {
      "cell_type": "code",
      "execution_count": null,
      "metadata": {
        "execution": {
          "iopub.execute_input": "2022-12-17T21:59:39.602807Z",
          "iopub.status.busy": "2022-12-17T21:59:39.602082Z",
          "iopub.status.idle": "2022-12-17T21:59:39.607998Z",
          "shell.execute_reply": "2022-12-17T21:59:39.607033Z",
          "shell.execute_reply.started": "2022-12-17T21:59:39.602770Z"
        },
        "id": "z1AH3Zp8AkF-",
        "trusted": true
      },
      "outputs": [],
      "source": [
        "# Instantiate an early stopping callback\n",
        "early_stopping = EarlyStopping(monitor='val_loss', \n",
        "                               min_delta = 0.01,\n",
        "                               patience=5)\n",
        "\n",
        "# Instantiate a model checkpoint callback\n",
        "model_save = ModelCheckpoint('best_model_custom.hdf5',\n",
        "                             monitor='val_loss',\n",
        "                             mode='min',\n",
        "                             save_best_only=True)"
      ]
    },
    {
      "cell_type": "markdown",
      "metadata": {
        "id": "s75SdOf0AkF_"
      },
      "source": [
        "### Fit model"
      ]
    },
    {
      "cell_type": "code",
      "execution_count": null,
      "metadata": {
        "execution": {
          "iopub.execute_input": "2022-12-17T21:59:43.007217Z",
          "iopub.status.busy": "2022-12-17T21:59:43.006855Z",
          "iopub.status.idle": "2022-12-17T21:59:45.184865Z",
          "shell.execute_reply": "2022-12-17T21:59:45.181551Z",
          "shell.execute_reply.started": "2022-12-17T21:59:43.007168Z"
        },
        "id": "iDzW5hVcAkF_",
        "trusted": true
      },
      "outputs": [],
      "source": [
        "history = model.fit(train_data,\n",
        "                    validation_data=validation_data,\n",
        "                    epochs=EPOCHS,\n",
        "                    verbose=1, \n",
        "                    callbacks=[early_stopping, model_save])"
      ]
    },
    {
      "cell_type": "markdown",
      "metadata": {
        "id": "BYzgJvKLAkF_"
      },
      "source": [
        "### Plot metrics"
      ]
    },
    {
      "cell_type": "code",
      "execution_count": null,
      "metadata": {
        "execution": {
          "iopub.execute_input": "2022-12-11T16:40:16.158908Z",
          "iopub.status.busy": "2022-12-11T16:40:16.158491Z",
          "iopub.status.idle": "2022-12-11T16:40:16.542076Z",
          "shell.execute_reply": "2022-12-11T16:40:16.541138Z",
          "shell.execute_reply.started": "2022-12-11T16:40:16.158875Z"
        },
        "id": "92z6nK1_AkGA",
        "trusted": true
      },
      "outputs": [],
      "source": [
        "plt.figure(figsize=(14, 5))\n",
        "\n",
        "plt.subplot(1, 2, 1)\n",
        "plt.plot(history.history['accuracy'], label='Training Accuracy')\n",
        "plt.plot(history.history['val_accuracy'], label='Validation Accuracy')\n",
        "plt.legend(loc='lower right')\n",
        "plt.title('Training and Validation Accuracy')\n",
        "\n",
        "plt.subplot(1, 2, 2)\n",
        "plt.plot(history.history['loss'], label='Training Loss')\n",
        "plt.plot(history.history['val_loss'], label='Validation Loss')\n",
        "plt.legend(loc='upper right')\n",
        "plt.title('Training and Validation Loss')\n",
        "\n",
        "plt.show()"
      ]
    }
  ],
  "metadata": {
    "colab": {
      "provenance": []
    },
    "kernelspec": {
      "display_name": "Python 3",
      "language": "python",
      "name": "python3"
    },
    "language_info": {
      "codemirror_mode": {
        "name": "ipython",
        "version": 3
      },
      "file_extension": ".py",
      "mimetype": "text/x-python",
      "name": "python",
      "nbconvert_exporter": "python",
      "pygments_lexer": "ipython3",
      "version": "3.6.4"
    }
  },
  "nbformat": 4,
  "nbformat_minor": 0
}
